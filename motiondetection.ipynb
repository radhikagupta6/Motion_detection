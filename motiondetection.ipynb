{
 "cells": [
  {
   "cell_type": "code",
   "execution_count": 1,
   "metadata": {},
   "outputs": [],
   "source": [
    "import imutils\n",
    "import cv2\n",
    "import datetime\n",
    "import time"
   ]
  },
  {
   "cell_type": "code",
   "execution_count": 2,
   "metadata": {},
   "outputs": [],
   "source": [
    "def motion():\n",
    "    video_capture=cv2.VideoCapture(0)\n",
    "    time.sleep(2)\n",
    "    \n",
    "    first_frame= None\n",
    "    \n",
    "    while True:\n",
    "        frame = video_capture.read()[1]\n",
    "        text = 'No motion detected'\n",
    "        \n",
    "        greyscale_frame = cv2.cvtColor(frame, cv2.COLOR_BGR2GRAY)\n",
    "        \n",
    "        gaussian_frame = cv2.GaussianBlur(greyscale_frame,(21,21),0)\n",
    "        \n",
    "        blur_frame = cv2.blur(gaussian_frame,(5,5))\n",
    "        \n",
    "        greyscale_image = blur_frame\n",
    "        \n",
    "        if first_frame is None:\n",
    "            first_frame = greyscale_image\n",
    "        else:\n",
    "            pass\n",
    "        \n",
    "        frame = imutils.resize(frame, width=500)\n",
    "        \n",
    "        '''calculating the absolute difference between each pixel of the two images'''\n",
    "        \n",
    "        frame_delta = cv2.absdiff(first_frame, greyscale_image)\n",
    "        \n",
    "        \n",
    "        '''threshold gives two outputs retval, threshold image. using 1 here we are indexing to the threshold image which is produced'''\n",
    "        thresh = cv2.threshold(frame_delta, 100, 225, cv2.THRESH_BINARY)[1]\n",
    "        \n",
    "        '''dilate is growing or expanding the effect on a binary image(black background and white foreground) it enlarges the white pixels in the foreground which are white(255) iteration two means it will do this process twice'''\n",
    "        \n",
    "        dilate_image = cv2.dilate(thresh, None, iterations=2)\n",
    "        \n",
    "        '''contours gives different images'''\n",
    "        cnt,_ = cv2.findContours(dilate_image.copy(), cv2.RETR_EXTERNAL, cv2.CHAIN_APPROX_SIMPLE)[-2:]\n",
    "        \n",
    "        for c in cnt:\n",
    "            if cv2.contourArea(c) > 800: # if contour area is less then 800 non-zero(not-black) pixels(white)\n",
    "                (x, y, w, h) = cv2.boundingRect(c) # x,y are the top left of the contour and w,h are the width and hieght \n",
    "\n",
    "                cv2.rectangle(frame, (x,y), (x+w, y+h), (0, 255, 0), 2) # (0, 255, 0) = color R,G,B = lime / 2 = thickness(i think?)(YES IM RITE!)\n",
    "                # image used for rectangle is frame so that its on the secruity feed image and not the binary/threshold/foreground image\n",
    "                # as its already used the threshold/(binary image) to find the contours this image/frame is what image it will be drawed on\n",
    "\n",
    "                text = 'Motion detected'\n",
    "                # text that appears when there is motion in video feed\n",
    "            else:\n",
    "                pass\n",
    "\n",
    "            \n",
    "        font = cv2.FONT_HERSHEY_SIMPLEX\n",
    "        \n",
    "        cv2.putText(frame, f'[+] Room status: {text}',(10,20),font,0.5,(0,0,255),2)\n",
    "        cv2.putText(frame, datetime.datetime.now().strftime('%A %d %B %Y %I:%M:%S%p'),(10,frame.shape[0] - 10),font,0.35,(0,0,255),1)\n",
    "        \n",
    "        cv2.imshow('Security feed', frame)\n",
    "        cv2.imshow('Threshold(foreground mask)', dilate_image)\n",
    "        cv2.imshow('Frame_delta', frame_delta)\n",
    "        \n",
    "        '''0xFF represents 8 bits'''\n",
    "        key = cv2.waitKey(1) & 0xFF\n",
    "        if key == ord('q'):\n",
    "            cv2.destroyWindows()\n",
    "            break\n",
    "            \n"
   ]
  },
  {
   "cell_type": "code",
   "execution_count": 3,
   "metadata": {},
   "outputs": [
    {
     "ename": "AttributeError",
     "evalue": "module 'cv2.cv2' has no attribute 'destroyWindows'",
     "output_type": "error",
     "traceback": [
      "\u001b[1;31m---------------------------------------------------------------------------\u001b[0m",
      "\u001b[1;31mAttributeError\u001b[0m                            Traceback (most recent call last)",
      "\u001b[1;32m<ipython-input-3-756d21b1f967>\u001b[0m in \u001b[0;36m<module>\u001b[1;34m()\u001b[0m\n\u001b[0;32m      1\u001b[0m \u001b[1;33m\u001b[0m\u001b[0m\n\u001b[0;32m      2\u001b[0m \u001b[1;32mif\u001b[0m \u001b[0m__name__\u001b[0m\u001b[1;33m==\u001b[0m\u001b[1;34m'__main__'\u001b[0m\u001b[1;33m:\u001b[0m\u001b[1;33m\u001b[0m\u001b[0m\n\u001b[1;32m----> 3\u001b[1;33m     \u001b[0mmotion\u001b[0m\u001b[1;33m(\u001b[0m\u001b[1;33m)\u001b[0m\u001b[1;33m\u001b[0m\u001b[0m\n\u001b[0m\u001b[0;32m      4\u001b[0m \u001b[1;33m\u001b[0m\u001b[0m\n\u001b[0;32m      5\u001b[0m \u001b[1;33m\u001b[0m\u001b[0m\n",
      "\u001b[1;32m<ipython-input-2-43ba9af14a45>\u001b[0m in \u001b[0;36mmotion\u001b[1;34m()\u001b[0m\n\u001b[0;32m     65\u001b[0m         \u001b[0mkey\u001b[0m \u001b[1;33m=\u001b[0m \u001b[0mcv2\u001b[0m\u001b[1;33m.\u001b[0m\u001b[0mwaitKey\u001b[0m\u001b[1;33m(\u001b[0m\u001b[1;36m1\u001b[0m\u001b[1;33m)\u001b[0m \u001b[1;33m&\u001b[0m \u001b[1;36m0xFF\u001b[0m\u001b[1;33m\u001b[0m\u001b[0m\n\u001b[0;32m     66\u001b[0m         \u001b[1;32mif\u001b[0m \u001b[0mkey\u001b[0m \u001b[1;33m==\u001b[0m \u001b[0mord\u001b[0m\u001b[1;33m(\u001b[0m\u001b[1;34m'q'\u001b[0m\u001b[1;33m)\u001b[0m\u001b[1;33m:\u001b[0m\u001b[1;33m\u001b[0m\u001b[0m\n\u001b[1;32m---> 67\u001b[1;33m             \u001b[0mcv2\u001b[0m\u001b[1;33m.\u001b[0m\u001b[0mdestroyWindows\u001b[0m\u001b[1;33m(\u001b[0m\u001b[1;33m)\u001b[0m\u001b[1;33m\u001b[0m\u001b[0m\n\u001b[0m\u001b[0;32m     68\u001b[0m             \u001b[1;32mbreak\u001b[0m\u001b[1;33m\u001b[0m\u001b[0m\n\u001b[0;32m     69\u001b[0m \u001b[1;33m\u001b[0m\u001b[0m\n",
      "\u001b[1;31mAttributeError\u001b[0m: module 'cv2.cv2' has no attribute 'destroyWindows'"
     ]
    }
   ],
   "source": [
    "\n",
    "if __name__=='__main__':\n",
    "    motion()\n",
    "        \n",
    "                \n",
    "\n",
    "        "
   ]
  },
  {
   "cell_type": "code",
   "execution_count": null,
   "metadata": {},
   "outputs": [],
   "source": []
  },
  {
   "cell_type": "code",
   "execution_count": null,
   "metadata": {},
   "outputs": [],
   "source": []
  }
 ],
 "metadata": {
  "kernelspec": {
   "display_name": "Python 3",
   "language": "python",
   "name": "python3"
  },
  "language_info": {
   "codemirror_mode": {
    "name": "ipython",
    "version": 3
   },
   "file_extension": ".py",
   "mimetype": "text/x-python",
   "name": "python",
   "nbconvert_exporter": "python",
   "pygments_lexer": "ipython3",
   "version": "3.7.0"
  }
 },
 "nbformat": 4,
 "nbformat_minor": 2
}
